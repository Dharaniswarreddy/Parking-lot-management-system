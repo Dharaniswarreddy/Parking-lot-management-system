{
 "cells": [
  {
   "cell_type": "code",
   "execution_count": 3,
   "id": "c82722c1-668f-474f-a7f1-144193565571",
   "metadata": {},
   "outputs": [],
   "source": [
    "import mysql.connector"
   ]
  },
  {
   "cell_type": "code",
   "execution_count": 4,
   "id": "404570d2-ae71-4674-bede-dc8687622fca",
   "metadata": {},
   "outputs": [
    {
     "name": "stdout",
     "output_type": "stream",
     "text": [
      "\n",
      "1. Add Vehicle\n",
      "2. Remove Vehicle\n",
      "3. Show Active Vehicles\n",
      "4. Exit\n"
     ]
    },
    {
     "name": "stdin",
     "output_type": "stream",
     "text": [
      "Your choice (1/2/3/4):  1\n",
      "Enter vehicle number:  AP1234\n",
      "Enter vehicle type:  EV\n"
     ]
    },
    {
     "name": "stdout",
     "output_type": "stream",
     "text": [
      "Vehicle added!\n",
      "\n",
      "1. Add Vehicle\n",
      "2. Remove Vehicle\n",
      "3. Show Active Vehicles\n",
      "4. Exit\n"
     ]
    },
    {
     "name": "stdin",
     "output_type": "stream",
     "text": [
      "Your choice (1/2/3/4):  3\n"
     ]
    },
    {
     "name": "stdout",
     "output_type": "stream",
     "text": [
      "(1, 'AP1234', 'EV')\n",
      "\n",
      "1. Add Vehicle\n",
      "2. Remove Vehicle\n",
      "3. Show Active Vehicles\n",
      "4. Exit\n"
     ]
    },
    {
     "name": "stdin",
     "output_type": "stream",
     "text": [
      "Your choice (1/2/3/4):  1\n",
      "Enter vehicle number:  TG9999\n",
      "Enter vehicle type:  Petrol\n"
     ]
    },
    {
     "name": "stdout",
     "output_type": "stream",
     "text": [
      "Vehicle added!\n",
      "\n",
      "1. Add Vehicle\n",
      "2. Remove Vehicle\n",
      "3. Show Active Vehicles\n",
      "4. Exit\n"
     ]
    },
    {
     "name": "stdin",
     "output_type": "stream",
     "text": [
      "Your choice (1/2/3/4):  4\n"
     ]
    }
   ],
   "source": [
    "import mysql.connector\n",
    "\n",
    "# Connect to your MySQL database\n",
    "db = mysql.connector.connect(\n",
    "    host=\"localhost\",\n",
    "    user=\"root\",\n",
    "    password=\"Eshwar1@\",\n",
    "    database=\"parking_lot_db\"\n",
    ")\n",
    "cursor = db.cursor()\n",
    "\n",
    "def add_vehicle():\n",
    "    vehicle_no = input(\"Enter vehicle number: \")\n",
    "    vehicle_type = input(\"Enter vehicle type: \")\n",
    "    sql = \"INSERT INTO parking_spots (vehicle_number, vehicle_type) VALUES (%s, %s)\"\n",
    "    cursor.execute(sql, (vehicle_no, vehicle_type))\n",
    "    db.commit()\n",
    "    print(\"Vehicle added!\")\n",
    "\n",
    "def remove_vehicle():\n",
    "    spot_id = input(\"Which spot to vacate (spot_id)? \")\n",
    "    sql = \"UPDATE parking_spots SET exit_time = CURRENT_TIMESTAMP WHERE spot_id = %s\"\n",
    "    cursor.execute(sql, (spot_id,))\n",
    "    db.commit()\n",
    "    print(\"Spot vacated!\")\n",
    "\n",
    "def show_active():\n",
    "    sql = \"SELECT spot_id, vehicle_number, vehicle_type FROM parking_spots WHERE exit_time IS NULL\"\n",
    "    cursor.execute(sql)\n",
    "    spots = cursor.fetchall()\n",
    "    for spot in spots:\n",
    "        print(spot)\n",
    "\n",
    "# Main menu loop\n",
    "while True:\n",
    "    print(\"\\n1. Add Vehicle\")\n",
    "    print(\"2. Remove Vehicle\")\n",
    "    print(\"3. Show Active Vehicles\")\n",
    "    print(\"4. Exit\")\n",
    "    choice = input(\"Your choice (1/2/3/4): \")\n",
    "    if choice == '1':\n",
    "        add_vehicle()\n",
    "    elif choice == '2':\n",
    "        remove_vehicle()\n",
    "    elif choice == '3':\n",
    "        show_active()\n",
    "    elif choice == '4':\n",
    "        break\n",
    "\n",
    "cursor.close()\n",
    "db.close()\n"
   ]
  },
  {
   "cell_type": "code",
   "execution_count": null,
   "id": "b6c015a8-e687-427d-b6a4-b4e2c28f00a5",
   "metadata": {},
   "outputs": [],
   "source": []
  }
 ],
 "metadata": {
  "kernelspec": {
   "display_name": "Python 3 (ipykernel)",
   "language": "python",
   "name": "python3"
  },
  "language_info": {
   "codemirror_mode": {
    "name": "ipython",
    "version": 3
   },
   "file_extension": ".py",
   "mimetype": "text/x-python",
   "name": "python",
   "nbconvert_exporter": "python",
   "pygments_lexer": "ipython3",
   "version": "3.13.5"
  }
 },
 "nbformat": 4,
 "nbformat_minor": 5
}
